{
  "nbformat": 4,
  "nbformat_minor": 0,
  "metadata": {
    "colab": {
      "provenance": [],
      "authorship_tag": "ABX9TyNvdIfiiwmfCtuFt9cD/oFh",
      "include_colab_link": true
    },
    "kernelspec": {
      "name": "python3",
      "display_name": "Python 3"
    },
    "language_info": {
      "name": "python"
    }
  },
  "cells": [
    {
      "cell_type": "markdown",
      "metadata": {
        "id": "view-in-github",
        "colab_type": "text"
      },
      "source": [
        "<a href=\"https://colab.research.google.com/github/RobLins12/Fireflies-PSO/blob/main/Vagalume.ipynb\" target=\"_parent\"><img src=\"https://colab.research.google.com/assets/colab-badge.svg\" alt=\"Open In Colab\"/></a>"
      ]
    },
    {
      "cell_type": "markdown",
      "source": [
        "**Algoritmo de enxame versão Fireflies (Vagalume)**"
      ],
      "metadata": {
        "id": "qUZlktvwZ1LB"
      }
    },
    {
      "cell_type": "markdown",
      "source": [
        "Imports Pricipais"
      ],
      "metadata": {
        "id": "yFBAvOiEnZIG"
      }
    },
    {
      "cell_type": "code",
      "source": [
        "import numpy as np\n",
        "from numpy.random import default_rng\n"
      ],
      "metadata": {
        "id": "6q5itwmcak1J"
      },
      "execution_count": null,
      "outputs": []
    },
    {
      "cell_type": "markdown",
      "source": [
        "Algoritmo em si"
      ],
      "metadata": {
        "id": "nRrHXBbxnceA"
      }
    },
    {
      "cell_type": "code",
      "source": [
        "class FireflyAlgorithm:\n",
        "    def __init__(self, pop_size=20, alpha=1.0, betamin=1.0, gamma=0.01, seed=None):\n",
        "        self.pop_size = pop_size\n",
        "        self.alpha = alpha\n",
        "        self.betamin = betamin\n",
        "        self.gamma = gamma\n",
        "        self.rng = default_rng(seed)\n",
        "\n",
        "    def run(self, function, dim, lb, ub, max_evals):\n",
        "        fireflies = self.rng.uniform(lb, ub, (self.pop_size, dim))\n",
        "        intensity = np.apply_along_axis(function, 1, fireflies)\n",
        "        best = np.min(intensity)\n",
        "\n",
        "        evaluations = self.pop_size\n",
        "        new_alpha = self.alpha\n",
        "        search_range = ub - lb\n",
        "\n",
        "        while evaluations <= max_evals:\n",
        "            new_alpha *= 0.97\n",
        "            for i in range(self.pop_size):\n",
        "                for j in range(self.pop_size):\n",
        "                    if intensity[i] >= intensity[j]:\n",
        "                        r = np.sum(np.square(fireflies[i] - fireflies[j]), axis=-1)\n",
        "                        beta = self.betamin * np.exp(-self.gamma * r)\n",
        "                        steps = new_alpha * (self.rng.random(dim) - 0.5) * search_range\n",
        "                        fireflies[i] += beta * (fireflies[j] - fireflies[i]) + steps\n",
        "                        fireflies[i] = np.clip(fireflies[i], lb, ub)\n",
        "                        intensity[i] = function(fireflies[i])\n",
        "                        evaluations += 1\n",
        "                        best = min(intensity[i], best)\n",
        "                        txt = \"Actual best = {best}\"\n",
        "                        print(txt.format(best = best))\n",
        "        return best"
      ],
      "metadata": {
        "id": "-EQTE7mKawLt"
      },
      "execution_count": null,
      "outputs": []
    },
    {
      "cell_type": "markdown",
      "source": [
        "Função Sphere"
      ],
      "metadata": {
        "id": "I1KS-9QiaGa6"
      }
    },
    {
      "cell_type": "code",
      "source": [
        "def sphere(x):\n",
        "    return np.sum(x ** 2)\n",
        "\n",
        "FA = FireflyAlgorithm()\n",
        "best = FA.run(function=sphere, dim=10, lb=-5, ub=5, max_evals=10000)\n",
        "\n",
        "print(best)"
      ],
      "metadata": {
        "id": "_E_BMN7pcwlz",
        "outputId": "8ed14984-9c40-464b-ed0d-d4b8d4cd36ce",
        "colab": {
          "base_uri": "https://localhost:8080/",
          "height": 245
        }
      },
      "execution_count": null,
      "outputs": [
        {
          "output_type": "error",
          "ename": "NameError",
          "evalue": "ignored",
          "traceback": [
            "\u001b[0;31m---------------------------------------------------------------------------\u001b[0m",
            "\u001b[0;31mNameError\u001b[0m                                 Traceback (most recent call last)",
            "\u001b[0;32m<ipython-input-1-2efda75c8695>\u001b[0m in \u001b[0;36m<cell line: 4>\u001b[0;34m()\u001b[0m\n\u001b[1;32m      2\u001b[0m     \u001b[0;32mreturn\u001b[0m \u001b[0mnp\u001b[0m\u001b[0;34m.\u001b[0m\u001b[0msum\u001b[0m\u001b[0;34m(\u001b[0m\u001b[0mx\u001b[0m \u001b[0;34m**\u001b[0m \u001b[0;36m2\u001b[0m\u001b[0;34m)\u001b[0m\u001b[0;34m\u001b[0m\u001b[0;34m\u001b[0m\u001b[0m\n\u001b[1;32m      3\u001b[0m \u001b[0;34m\u001b[0m\u001b[0m\n\u001b[0;32m----> 4\u001b[0;31m \u001b[0mFA\u001b[0m \u001b[0;34m=\u001b[0m \u001b[0mFireflyAlgorithm\u001b[0m\u001b[0;34m(\u001b[0m\u001b[0;34m)\u001b[0m\u001b[0;34m\u001b[0m\u001b[0;34m\u001b[0m\u001b[0m\n\u001b[0m\u001b[1;32m      5\u001b[0m \u001b[0mbest\u001b[0m \u001b[0;34m=\u001b[0m \u001b[0mFA\u001b[0m\u001b[0;34m.\u001b[0m\u001b[0mrun\u001b[0m\u001b[0;34m(\u001b[0m\u001b[0mfunction\u001b[0m\u001b[0;34m=\u001b[0m\u001b[0msphere\u001b[0m\u001b[0;34m,\u001b[0m \u001b[0mdim\u001b[0m\u001b[0;34m=\u001b[0m\u001b[0;36m10\u001b[0m\u001b[0;34m,\u001b[0m \u001b[0mlb\u001b[0m\u001b[0;34m=\u001b[0m\u001b[0;34m-\u001b[0m\u001b[0;36m5\u001b[0m\u001b[0;34m,\u001b[0m \u001b[0mub\u001b[0m\u001b[0;34m=\u001b[0m\u001b[0;36m5\u001b[0m\u001b[0;34m,\u001b[0m \u001b[0mmax_evals\u001b[0m\u001b[0;34m=\u001b[0m\u001b[0;36m10000\u001b[0m\u001b[0;34m)\u001b[0m\u001b[0;34m\u001b[0m\u001b[0;34m\u001b[0m\u001b[0m\n\u001b[1;32m      6\u001b[0m \u001b[0;34m\u001b[0m\u001b[0m\n",
            "\u001b[0;31mNameError\u001b[0m: name 'FireflyAlgorithm' is not defined"
          ]
        }
      ]
    },
    {
      "cell_type": "markdown",
      "source": [
        "Função Rosenbrock\n"
      ],
      "metadata": {
        "id": "y8VAyVSkrTRF"
      }
    },
    {
      "cell_type": "code",
      "source": [
        "def rosenbrock(x):\n",
        "    ans=0.0\n",
        "    for i in range(min(len(x),16)):\n",
        "        ans+=(100.0*(x[i]-x[i]**2)**2 + (1-x[i])**2)\n",
        "    return ans\n",
        "\n",
        "FA = FireflyAlgorithm()\n",
        "best = FA.run(function=rosenbrock, dim=10, lb=-5, ub=5, max_evals=10000)\n",
        "\n",
        "print(best)"
      ],
      "metadata": {
        "id": "AFzG4ID7qckF"
      },
      "execution_count": null,
      "outputs": []
    },
    {
      "cell_type": "markdown",
      "source": [
        "Função Rastringin\n"
      ],
      "metadata": {
        "id": "zZxi2dYKqQFz"
      }
    },
    {
      "cell_type": "code",
      "source": [
        "def rastrigin(x):\n",
        "    ans = 0.0\n",
        "    i=0\n",
        "    while i< (len(x)):#Change to while\n",
        "        ans += (x[i] ** 2 - (10. * np.cos(2 * np.pi * x[i])))\n",
        "        i+=1\n",
        "    ans += 10. * len(x)\n",
        "    return ans\n",
        "\n",
        "FA = FireflyAlgorithm()\n",
        "best = FA.run(function=rastrigin, dim=10, lb=-5, ub=5, max_evals=10000)\n",
        "\n",
        "print(best)"
      ],
      "metadata": {
        "id": "knmfXRTsrbMD"
      },
      "execution_count": null,
      "outputs": []
    },
    {
      "cell_type": "markdown",
      "source": [
        "Ackley"
      ],
      "metadata": {
        "id": "o8yfZRSosOlQ"
      }
    },
    {
      "cell_type": "code",
      "source": [
        "def ackley(x):\n",
        "    return -20*np.exp(-0.2*np.sqrt((x[0]**2+x[1]**2)/2)) - np.exp(0.5*(np.cos(2*np.pi*x[0]) + np.cos(2*np.pi*x[1]))) + 20 + np.exp(1)\n",
        "\n",
        "FA = FireflyAlgorithm()\n",
        "best = FA.run(function=ackley, dim=10, lb=-5, ub=5, max_evals=10000)\n",
        "\n",
        "print(best)"
      ],
      "metadata": {
        "id": "YLjfjAnPsM2v"
      },
      "execution_count": null,
      "outputs": []
    }
  ]
}